{
 "cells": [
  {
   "cell_type": "code",
   "execution_count": 141,
   "metadata": {},
   "outputs": [
    {
     "data": {
      "text/plain": [
       "'Chelsea Bautista MD'"
      ]
     },
     "execution_count": 141,
     "metadata": {},
     "output_type": "execute_result"
    }
   ],
   "source": [
    "import pandas as pd\n",
    "import numpy as np\n",
    "from datetime import datetime, timedelta\n",
    "\n",
    "from faker import Faker\n",
    "fake = Faker()\n",
    "\n",
    "fake.name()"
   ]
  },
  {
   "cell_type": "code",
   "execution_count": 139,
   "metadata": {},
   "outputs": [
    {
     "data": {
      "text/plain": [
       "datetime.datetime(2019, 1, 1, 0, 0)"
      ]
     },
     "execution_count": 139,
     "metadata": {},
     "output_type": "execute_result"
    }
   ],
   "source": [
    "dt(2019,1,1)"
   ]
  },
  {
   "cell_type": "code",
   "execution_count": 86,
   "metadata": {},
   "outputs": [],
   "source": [
    "responses = pd.read_csv('./response_seed2.csv')\n",
    "responses['student_id'] +=1\n"
   ]
  },
  {
   "cell_type": "code",
   "execution_count": 142,
   "metadata": {},
   "outputs": [
    {
     "data": {
      "text/plain": [
       "65.68913842406576"
      ]
     },
     "execution_count": 142,
     "metadata": {},
     "output_type": "execute_result"
    }
   ],
   "source": [
    "np.random.uniform(50,70)"
   ]
  },
  {
   "cell_type": "code",
   "execution_count": 149,
   "metadata": {},
   "outputs": [],
   "source": [
    "class Student:\n",
    "    def __init__(self):\n",
    "        sleeper, eater, attender, tardyer = np.random.choice(['l','m','h'], p = [.25, .5, .25], size = 4)\n",
    "        base_score = np.random.uniform(55,70)\n",
    "        \n",
    "    def sleep(self):\n",
    "        if self.sleeper == 'l':\n",
    "            return np.random.choice([3,4,5,6,7], p = [.1, .4, .2, .2, .1])\n",
    "        elif self.sleeper == 'm':\n",
    "            return np.random.choice([3,4,5,6,7], p = [.05, .35, .3, .25, .05])\n",
    "        else:\n",
    "            return np.random.choice([3,4,5,6,7], p = [.02, .28, .3, .25, .15])\n",
    "        \n",
    "    def eat(self):\n",
    "        if self.eater == 'l':\n",
    "            return np.random.choice([1,2], p = [.4, .6])\n",
    "        elif self.eater == 'm':\n",
    "            return np.random.choice([1,2], p = [.7, .3])\n",
    "        else:\n",
    "            return np.random.choice([1,2], p = [.85, .15])\n",
    "    \n",
    "    def attend(self):\n",
    "        if self.attender == 'l':\n",
    "            return np.random.choice([True, False], p = [.9, .1])\n",
    "        elif self.attender == 'm':\n",
    "            return np.random.choice([True, False], p = [.95, .05])\n",
    "        else:\n",
    "            return np.random.choice([True, False], p = [.99, .01])\n",
    "    \n",
    "    def tardy(self):\n",
    "        if self.tardyer == 'l':\n",
    "            return np.random.choice([False, True], p = [.85, .15])\n",
    "        elif self.tardyer == 'm':\n",
    "            return np.random.choice([False, True], p = [.90, .1])\n",
    "        else:\n",
    "            return np.random.choice([False, True], p = [.99, .01])"
   ]
  },
  {
   "cell_type": "code",
   "execution_count": 143,
   "metadata": {},
   "outputs": [
    {
     "data": {
      "text/plain": [
       "2"
      ]
     },
     "execution_count": 143,
     "metadata": {},
     "output_type": "execute_result"
    }
   ],
   "source": [
    "50//20\n"
   ]
  },
  {
   "cell_type": "code",
   "execution_count": 147,
   "metadata": {},
   "outputs": [
    {
     "data": {
      "text/html": [
       "<div>\n",
       "<style scoped>\n",
       "    .dataframe tbody tr th:only-of-type {\n",
       "        vertical-align: middle;\n",
       "    }\n",
       "\n",
       "    .dataframe tbody tr th {\n",
       "        vertical-align: top;\n",
       "    }\n",
       "\n",
       "    .dataframe thead th {\n",
       "        text-align: right;\n",
       "    }\n",
       "</style>\n",
       "<table border=\"1\" class=\"dataframe\">\n",
       "  <thead>\n",
       "    <tr style=\"text-align: right;\">\n",
       "      <th></th>\n",
       "      <th>choice_id</th>\n",
       "      <th>choice_type</th>\n",
       "      <th>correct</th>\n",
       "      <th>course_id</th>\n",
       "      <th>created_at</th>\n",
       "      <th>question_id</th>\n",
       "      <th>student_id</th>\n",
       "      <th>updated_at</th>\n",
       "    </tr>\n",
       "  </thead>\n",
       "  <tbody>\n",
       "    <tr>\n",
       "      <th>0</th>\n",
       "      <td>1.0</td>\n",
       "      <td>id</td>\n",
       "      <td>nil</td>\n",
       "      <td>0</td>\n",
       "      <td>2019-01-02 12:00:00</td>\n",
       "      <td>1</td>\n",
       "      <td>1</td>\n",
       "      <td>2019-01-02 12:00:00</td>\n",
       "    </tr>\n",
       "  </tbody>\n",
       "</table>\n",
       "</div>"
      ],
      "text/plain": [
       "   choice_id choice_type correct  course_id           created_at  question_id  \\\n",
       "0        1.0          id     nil          0  2019-01-02 12:00:00            1   \n",
       "\n",
       "   student_id           updated_at  \n",
       "0           1  2019-01-02 12:00:00  "
      ]
     },
     "execution_count": 147,
     "metadata": {},
     "output_type": "execute_result"
    }
   ],
   "source": [
    "responses.head(1)"
   ]
  },
  {
   "cell_type": "code",
   "execution_count": 144,
   "metadata": {},
   "outputs": [
    {
     "ename": "NameError",
     "evalue": "name 'Student' is not defined",
     "output_type": "error",
     "traceback": [
      "\u001b[0;31m---------------------------------------------------------------------------\u001b[0m",
      "\u001b[0;31mNameError\u001b[0m                                 Traceback (most recent call last)",
      "\u001b[0;32m<ipython-input-144-14fc97c376fc>\u001b[0m in \u001b[0;36m<module>\u001b[0;34m\u001b[0m\n\u001b[1;32m     10\u001b[0m     \u001b[0mc\u001b[0m \u001b[0;34m=\u001b[0m \u001b[0;34m(\u001b[0m\u001b[0ms\u001b[0m \u001b[0;34m//\u001b[0m\u001b[0;36m20\u001b[0m\u001b[0;34m)\u001b[0m \u001b[0;34m+\u001b[0m \u001b[0;36m1\u001b[0m\u001b[0;34m\u001b[0m\u001b[0;34m\u001b[0m\u001b[0m\n\u001b[1;32m     11\u001b[0m \u001b[0;34m\u001b[0m\u001b[0m\n\u001b[0;32m---> 12\u001b[0;31m     \u001b[0mstu\u001b[0m \u001b[0;34m=\u001b[0m \u001b[0mStudent\u001b[0m\u001b[0;34m(\u001b[0m\u001b[0;34m)\u001b[0m\u001b[0;34m\u001b[0m\u001b[0;34m\u001b[0m\u001b[0m\n\u001b[0m\u001b[1;32m     13\u001b[0m     \u001b[0mfor_test\u001b[0m \u001b[0;34m=\u001b[0m \u001b[0;34m[\u001b[0m\u001b[0;34m]\u001b[0m\u001b[0;34m\u001b[0m\u001b[0;34m\u001b[0m\u001b[0m\n\u001b[1;32m     14\u001b[0m     \u001b[0;32mfor\u001b[0m \u001b[0md\u001b[0m \u001b[0;32min\u001b[0m \u001b[0mrange\u001b[0m\u001b[0;34m(\u001b[0m\u001b[0mnumber_of_tests\u001b[0m\u001b[0;34m*\u001b[0m\u001b[0;36m10\u001b[0m\u001b[0;34m)\u001b[0m\u001b[0;34m:\u001b[0m\u001b[0;34m\u001b[0m\u001b[0;34m\u001b[0m\u001b[0m\n",
      "\u001b[0;31mNameError\u001b[0m: name 'Student' is not defined"
     ]
    }
   ],
   "source": [
    "number_of_students = 6000\n",
    "number_of_tests = 5\n",
    "start_day = datetime(2019,1,1,2)\n",
    "day = timedelta(days = 1)\n",
    "attendances = []\n",
    "surveys = []\n",
    "\n",
    "for s in range(1, number_of_students + 1):\n",
    "    s_id = s+1\n",
    "    c_id = (s //20) + 1\n",
    "    stu_defaults = {\n",
    "        'course_id': c_id,\n",
    "        'student_id': s_id\n",
    "    }\n",
    "    stu = Student()\n",
    "    for_test = {'sleep':[], 'eat':[]}\n",
    "    for d in range(number_of_tests*10):\n",
    "        if stu.attend():\n",
    "            date = start_day + (d * day)\n",
    "            date = date.strftime(\"%Y-%m-%d %H:%M:%S\")\n",
    "            stamps = {'created_at': date, 'updated_at': date}\n",
    "            \n",
    "            attendance = 'tardy' if stu.tardy() else 'present'\n",
    "            attendances.append({\n",
    "                **stu_defaults,\n",
    "                **stamps,\n",
    "                'attendance': attendance\n",
    "            })\n",
    "            ate = stu.eat()\n",
    "            slept = stu.sleep()\n",
    "            food = {**stu_defaults, 'question_id': 1, 'choice_id': ate, **stamps}\n",
    "            sleep = {**stu_defaults, 'question_id': 2, 'choice_id': slept, **stamps}\n",
    "            to_add = [food,sleep]\n",
    "            surveys.extend(to_add)\n",
    "            for_test['sleep'].append(slept)\n",
    "            for_test['eat'].append(ate)\n",
    "            \n",
    "        if d % 9 == 0:\n",
    "            score = (abs(sum(for_test['eat'])-20) * 5) + \n",
    "            test = {**stu_defaults, 'question_id': 3}\n",
    "                for_test = {'sleep':[], 'eat':[]}"
   ]
  },
  {
   "cell_type": "code",
   "execution_count": 146,
   "metadata": {},
   "outputs": [
    {
     "data": {
      "text/plain": [
       "datetime.datetime(2019, 1, 2, 0, 0)"
      ]
     },
     "execution_count": 146,
     "metadata": {},
     "output_type": "execute_result"
    }
   ],
   "source": [
    "start_day + day"
   ]
  },
  {
   "cell_type": "code",
   "execution_count": 87,
   "metadata": {
    "scrolled": true
   },
   "outputs": [
    {
     "data": {
      "text/html": [
       "<div>\n",
       "<style scoped>\n",
       "    .dataframe tbody tr th:only-of-type {\n",
       "        vertical-align: middle;\n",
       "    }\n",
       "\n",
       "    .dataframe tbody tr th {\n",
       "        vertical-align: top;\n",
       "    }\n",
       "\n",
       "    .dataframe thead th {\n",
       "        text-align: right;\n",
       "    }\n",
       "</style>\n",
       "<table border=\"1\" class=\"dataframe\">\n",
       "  <thead>\n",
       "    <tr style=\"text-align: right;\">\n",
       "      <th></th>\n",
       "      <th>choice_id</th>\n",
       "      <th>choice_type</th>\n",
       "      <th>correct</th>\n",
       "      <th>course_id</th>\n",
       "      <th>created_at</th>\n",
       "      <th>question_id</th>\n",
       "      <th>student_id</th>\n",
       "      <th>updated_at</th>\n",
       "    </tr>\n",
       "  </thead>\n",
       "  <tbody>\n",
       "    <tr>\n",
       "      <th>0</th>\n",
       "      <td>1.0</td>\n",
       "      <td>id</td>\n",
       "      <td>nil</td>\n",
       "      <td>0</td>\n",
       "      <td>2019-01-02 12:00:00</td>\n",
       "      <td>1</td>\n",
       "      <td>1</td>\n",
       "      <td>2019-01-02 12:00:00</td>\n",
       "    </tr>\n",
       "    <tr>\n",
       "      <th>1</th>\n",
       "      <td>5.0</td>\n",
       "      <td>id</td>\n",
       "      <td>nil</td>\n",
       "      <td>0</td>\n",
       "      <td>2019-01-02 12:00:00</td>\n",
       "      <td>2</td>\n",
       "      <td>1</td>\n",
       "      <td>2019-01-02 12:00:00</td>\n",
       "    </tr>\n",
       "    <tr>\n",
       "      <th>2</th>\n",
       "      <td>2.0</td>\n",
       "      <td>id</td>\n",
       "      <td>nil</td>\n",
       "      <td>0</td>\n",
       "      <td>2019-01-03 12:00:00</td>\n",
       "      <td>1</td>\n",
       "      <td>1</td>\n",
       "      <td>2019-01-03 12:00:00</td>\n",
       "    </tr>\n",
       "    <tr>\n",
       "      <th>3</th>\n",
       "      <td>5.0</td>\n",
       "      <td>id</td>\n",
       "      <td>nil</td>\n",
       "      <td>0</td>\n",
       "      <td>2019-01-03 12:00:00</td>\n",
       "      <td>2</td>\n",
       "      <td>1</td>\n",
       "      <td>2019-01-03 12:00:00</td>\n",
       "    </tr>\n",
       "    <tr>\n",
       "      <th>4</th>\n",
       "      <td>1.0</td>\n",
       "      <td>id</td>\n",
       "      <td>nil</td>\n",
       "      <td>0</td>\n",
       "      <td>2019-01-04 12:00:00</td>\n",
       "      <td>1</td>\n",
       "      <td>1</td>\n",
       "      <td>2019-01-04 12:00:00</td>\n",
       "    </tr>\n",
       "  </tbody>\n",
       "</table>\n",
       "</div>"
      ],
      "text/plain": [
       "   choice_id choice_type correct  course_id           created_at  question_id  \\\n",
       "0        1.0          id     nil          0  2019-01-02 12:00:00            1   \n",
       "1        5.0          id     nil          0  2019-01-02 12:00:00            2   \n",
       "2        2.0          id     nil          0  2019-01-03 12:00:00            1   \n",
       "3        5.0          id     nil          0  2019-01-03 12:00:00            2   \n",
       "4        1.0          id     nil          0  2019-01-04 12:00:00            1   \n",
       "\n",
       "   student_id           updated_at  \n",
       "0           1  2019-01-02 12:00:00  \n",
       "1           1  2019-01-02 12:00:00  \n",
       "2           1  2019-01-03 12:00:00  \n",
       "3           1  2019-01-03 12:00:00  \n",
       "4           1  2019-01-04 12:00:00  "
      ]
     },
     "execution_count": 87,
     "metadata": {},
     "output_type": "execute_result"
    }
   ],
   "source": [
    "responses.head()"
   ]
  },
  {
   "cell_type": "code",
   "execution_count": 107,
   "metadata": {},
   "outputs": [
    {
     "data": {
      "text/plain": [
       "(315000, 8)"
      ]
     },
     "execution_count": 107,
     "metadata": {},
     "output_type": "execute_result"
    }
   ],
   "source": [
    "responses.shape"
   ]
  },
  {
   "cell_type": "code",
   "execution_count": 134,
   "metadata": {},
   "outputs": [
    {
     "data": {
      "text/plain": [
       "2    30\n",
       "1    30\n",
       "3     3\n",
       "Name: question_id, dtype: int64"
      ]
     },
     "execution_count": 134,
     "metadata": {},
     "output_type": "execute_result"
    }
   ],
   "source": [
    "responses.loc[responses['student_id'] == 1,:].question_id.value_counts()"
   ]
  },
  {
   "cell_type": "code",
   "execution_count": 132,
   "metadata": {},
   "outputs": [],
   "source": [
    "def find_student_courses(df):\n",
    "    to_ret = []\n",
    "    for s in df.student_id.unique():\n",
    "        info = {'student_id': s, 'course_id': df[df['student_id'] == s].course_id.iloc[0]}\n",
    "        to_ret.append(info)\n",
    "    return to_ret"
   ]
  },
  {
   "cell_type": "code",
   "execution_count": 133,
   "metadata": {},
   "outputs": [],
   "source": [
    "sc = find_student_courses(responses)"
   ]
  },
  {
   "cell_type": "code",
   "execution_count": 48,
   "metadata": {},
   "outputs": [],
   "source": [
    "def gen_name():\n",
    "    return {'first_name': fake.first_name(),\n",
    "            'last_name': fake.last_name()}"
   ]
  },
  {
   "cell_type": "code",
   "execution_count": 49,
   "metadata": {},
   "outputs": [],
   "source": [
    "def gen_teachers(n):\n",
    "    to_ret = []\n",
    "    for i in range(1,n+1):\n",
    "        info = {\n",
    "            **gen_name(),\n",
    "            'email': f'teacher{i}@school.com',\n",
    "            'password': 'password'\n",
    "        }\n",
    "        to_ret.append(info)\n",
    "    return to_ret"
   ]
  },
  {
   "cell_type": "code",
   "execution_count": 56,
   "metadata": {},
   "outputs": [],
   "source": [
    "def gen_students(n):\n",
    "    to_ret = []\n",
    "    for i in range(1, n+1):\n",
    "        info = {\n",
    "            **gen_name(),\n",
    "            'student_id': 100000 + i,\n",
    "            'google_id': fake.sha1()[:21]\n",
    "        }\n",
    "        to_ret.append(info)\n",
    "    return to_ret"
   ]
  },
  {
   "cell_type": "code",
   "execution_count": 83,
   "metadata": {},
   "outputs": [],
   "source": [
    "levels = [\"Beginner\", \"Intermediate\", \"Advanced\", \"Honors\", \"Remedial\"]\n",
    "subjects = [\"English\", \"Algebra\", \"Chemistry\", \"Biology\", \"Sociology\",\"Philosophy\", \"Literature\", \"Spanish\",\"French\",\n",
    "            \"Chinese\", \"German\", \"Swahili\", \"Physics\", \"Geometry\", \"Calculus\",\"Japanese\", \"Italian\", \"Neuroscience\",\n",
    "            \"Linear Algebra\", \"Differential Equations\", \"History\", \"Art History\", \"Anatomy\", \"Economics\", \"Derivatives\"]\n",
    "sequence = [\"1\",\"2\"]\n",
    "\n",
    "course_names = []\n",
    "for l in levels:\n",
    "    for s in subjects:\n",
    "        for n in sequence:\n",
    "            course_names.append(\" \".join([l,s,n]))\n",
    "            \n",
    "def gen_courses(n):\n",
    "    to_ret = []\n",
    "    period_times = {}\n",
    "    for i in range(1,6):\n",
    "        start = 7+i\n",
    "        end = start +1\n",
    "        period_times[i] = {\n",
    "            'start_time': f'{start}:00:00',\n",
    "            'end_time': f'{end}:00:00'\n",
    "        }\n",
    "    for i in range(n):\n",
    "        info = {\n",
    "            'name': course_names[i],\n",
    "            'period': (i%5) +1,\n",
    "            **period_times[i+1],\n",
    "        }\n",
    "        to_ret.append(info)\n",
    "    return to_ret\n",
    "    "
   ]
  },
  {
   "cell_type": "code",
   "execution_count": 84,
   "metadata": {},
   "outputs": [
    {
     "data": {
      "text/plain": [
       "[{'name': 'Beginner English 1',\n",
       "  'period': 1,\n",
       "  'start_time': '8:00:00',\n",
       "  'end_time': '9:00:00'},\n",
       " {'name': 'Beginner English 2',\n",
       "  'period': 2,\n",
       "  'start_time': '9:00:00',\n",
       "  'end_time': '10:00:00'}]"
      ]
     },
     "execution_count": 84,
     "metadata": {},
     "output_type": "execute_result"
    }
   ],
   "source": [
    "gen_courses(2)"
   ]
  },
  {
   "cell_type": "code",
   "execution_count": 79,
   "metadata": {},
   "outputs": [
    {
     "data": {
      "text/plain": [
       "1"
      ]
     },
     "execution_count": 79,
     "metadata": {},
     "output_type": "execute_result"
    }
   ],
   "source": [
    "5%5 +1"
   ]
  },
  {
   "cell_type": "code",
   "execution_count": 19,
   "metadata": {},
   "outputs": [
    {
     "data": {
      "text/html": [
       "<div>\n",
       "<style scoped>\n",
       "    .dataframe tbody tr th:only-of-type {\n",
       "        vertical-align: middle;\n",
       "    }\n",
       "\n",
       "    .dataframe tbody tr th {\n",
       "        vertical-align: top;\n",
       "    }\n",
       "\n",
       "    .dataframe thead th {\n",
       "        text-align: right;\n",
       "    }\n",
       "</style>\n",
       "<table border=\"1\" class=\"dataframe\">\n",
       "  <thead>\n",
       "    <tr style=\"text-align: right;\">\n",
       "      <th></th>\n",
       "      <th>choice_id</th>\n",
       "      <th>choice_type</th>\n",
       "      <th>correct</th>\n",
       "      <th>course_id</th>\n",
       "      <th>created_at</th>\n",
       "      <th>question_id</th>\n",
       "      <th>student_id</th>\n",
       "      <th>updated_at</th>\n",
       "    </tr>\n",
       "  </thead>\n",
       "  <tbody>\n",
       "    <tr>\n",
       "      <th>0</th>\n",
       "      <td>1.0</td>\n",
       "      <td>id</td>\n",
       "      <td>nil</td>\n",
       "      <td>0</td>\n",
       "      <td>2019-01-02 12:00:00</td>\n",
       "      <td>1</td>\n",
       "      <td>1</td>\n",
       "      <td>2019-01-02 12:00:00</td>\n",
       "    </tr>\n",
       "    <tr>\n",
       "      <th>1</th>\n",
       "      <td>5.0</td>\n",
       "      <td>id</td>\n",
       "      <td>nil</td>\n",
       "      <td>0</td>\n",
       "      <td>2019-01-02 12:00:00</td>\n",
       "      <td>2</td>\n",
       "      <td>1</td>\n",
       "      <td>2019-01-02 12:00:00</td>\n",
       "    </tr>\n",
       "    <tr>\n",
       "      <th>2</th>\n",
       "      <td>2.0</td>\n",
       "      <td>id</td>\n",
       "      <td>nil</td>\n",
       "      <td>0</td>\n",
       "      <td>2019-01-03 12:00:00</td>\n",
       "      <td>1</td>\n",
       "      <td>1</td>\n",
       "      <td>2019-01-03 12:00:00</td>\n",
       "    </tr>\n",
       "    <tr>\n",
       "      <th>3</th>\n",
       "      <td>5.0</td>\n",
       "      <td>id</td>\n",
       "      <td>nil</td>\n",
       "      <td>0</td>\n",
       "      <td>2019-01-03 12:00:00</td>\n",
       "      <td>2</td>\n",
       "      <td>1</td>\n",
       "      <td>2019-01-03 12:00:00</td>\n",
       "    </tr>\n",
       "    <tr>\n",
       "      <th>4</th>\n",
       "      <td>1.0</td>\n",
       "      <td>id</td>\n",
       "      <td>nil</td>\n",
       "      <td>0</td>\n",
       "      <td>2019-01-04 12:00:00</td>\n",
       "      <td>1</td>\n",
       "      <td>1</td>\n",
       "      <td>2019-01-04 12:00:00</td>\n",
       "    </tr>\n",
       "  </tbody>\n",
       "</table>\n",
       "</div>"
      ],
      "text/plain": [
       "   choice_id choice_type correct  course_id           created_at  question_id  \\\n",
       "0        1.0          id     nil          0  2019-01-02 12:00:00            1   \n",
       "1        5.0          id     nil          0  2019-01-02 12:00:00            2   \n",
       "2        2.0          id     nil          0  2019-01-03 12:00:00            1   \n",
       "3        5.0          id     nil          0  2019-01-03 12:00:00            2   \n",
       "4        1.0          id     nil          0  2019-01-04 12:00:00            1   \n",
       "\n",
       "   student_id           updated_at  \n",
       "0           1  2019-01-02 12:00:00  \n",
       "1           1  2019-01-02 12:00:00  \n",
       "2           1  2019-01-03 12:00:00  \n",
       "3           1  2019-01-03 12:00:00  \n",
       "4           1  2019-01-04 12:00:00  "
      ]
     },
     "execution_count": 19,
     "metadata": {},
     "output_type": "execute_result"
    }
   ],
   "source": [
    "responses.head()"
   ]
  },
  {
   "cell_type": "code",
   "execution_count": 58,
   "metadata": {},
   "outputs": [
    {
     "data": {
      "text/plain": [
       "(250,)"
      ]
     },
     "execution_count": 58,
     "metadata": {},
     "output_type": "execute_result"
    }
   ],
   "source": [
    "responses.course_id.value_counts().shape"
   ]
  },
  {
   "cell_type": "code",
   "execution_count": 12,
   "metadata": {},
   "outputs": [
    {
     "data": {
      "text/plain": [
       "(3150, 8)"
      ]
     },
     "execution_count": 12,
     "metadata": {},
     "output_type": "execute_result"
    }
   ],
   "source": [
    "responses.shape"
   ]
  },
  {
   "cell_type": "code",
   "execution_count": 59,
   "metadata": {},
   "outputs": [],
   "source": [
    "n = [\"Nonlife Insurance\", \"Electricity\", \"Real Estate Investment Trusts\", \"Nonequity Investment Instruments\", \"Industrial Engineering\", \"Oil & Gas Producers\", \"Aerospace & Defense\", \"Aerospace & Defense\", \"Mobile Telecommunications\", \"Media\", \"Travel & Leisure\", \"Industrial Metals & Mining\", \"General Industrials\", \"General Retailers\", \"Industrial Transportation\", \"Media\", \"Household Goods & Home Construction\", \"Gas, Water & Multiutilities\", \"Tobacco\", \"Banks\", \"Gas, Water & Multiutilities\", \"Pharmaceuticals & Biotechnology\", \"Industrial Transportation\", \"Oil Equipment, Services & Distribution\", \"Financial Services\", \"Personal Goods\", \"General Retailers\", \"Tobacco\", \"Personal Goods\", \"Industrial Metals & Mining\", \"Alternative Energy\", \"Equity Investment Instruments\", \"Industrial Engineering\", \"Pharmaceuticals & Biotechnology\", \"Gas, Water & Multiutilities\", \"Beverages\", \"Mobile Telecommunications\", \"Forestry & Paper\", \"Real Estate Investment & Services\", \"Technology Hardware & Equipment\", \"Real Estate Investment Trusts\", \"Technology Hardware & Equipment\", \"Industrial Transportation\", \"Household Goods & Home Construction\", \"Support Services\", \"Banks\", \"Personal Goods\", \"Life Insurance\", \"Real Estate Investment & Services\", \"Construction & Materials\", \"Media\", \"Personal Goods\", \"Health Care Equipment & Services\", \"Real Estate Investment & Services\", \"Food & Drug Retailers\", \"Chemicals\", \"Nonlife Insurance\", \"Health Care Equipment & Services\", \"Forestry & Paper\", \"Mobile Telecommunications\", \"Fixed Line Telecommunications\", \"General Retailers\", \"Industrial Transportation\", \"Electricity\", \"Electronic & Electrical Equipment\", \"Nonlife Insurance\", \"Industrial Metals & Mining\", \"Equity Investment Instruments\", \"General Retailers\", \"Oil Equipment, Services & Distribution\", \"Personal Goods\", \"Tobacco\", \"Aerospace & Defense\", \"Gas, Water & Multiutilities\", \"General Industrials\", \"Industrial Transportation\", \"Food Producers\", \"Personal Goods\", \"Life Insurance\", \"Nonequity Investment Instruments\", \"Media\", \"Health Care Equipment & Services\", \"Fixed Line Telecommunications\", \"Life Insurance\", \"Support Services\", \"Support Services\", \"Technology Hardware & Equipment\", \"Support Services\", \"Technology Hardware & Equipment\", \"Oil Equipment, Services & Distribution\", \"Media\", \"Chemicals\", \"Life Insurance\", \"Food & Drug Retailers\", \"General Industrials\", \"Financial Services\", \"Travel & Leisure\", \"Software & Computer Services\", \"Gas, Water & Multiutilities\", \"Chemicals\", \"General Retailers\", \"Real Estate Investment Trusts\", \"Aerospace & Defense\", \"General Retailers\", \"Life Insurance\", \"Nonequity Investment Instruments\", \"Food & Drug Retailers\", \"Pharmaceuticals & Biotechnology\", \"Gas, Water & Multiutilities\", \"Automobiles & Parts\", \"Fixed Line Telecommunications\", \"Health Care Equipment & Services\", \"Personal Goods\", \"Health Care Equipment & Services\", \"Aerospace & Defense\", \"Fixed Line Telecommunications\", \"Construction & Materials\", \"Automobiles & Parts\", \"Media\", \"Electricity\", \"Beverages\", \"Beverages\", \"Nonlife Insurance\", \"Financial Services\", \"Mobile Telecommunications\", \"Equity Investment Instruments\", \"Aerospace & Defense\", \"Media\", \"Industrial Metals & Mining\", \"Real Estate Investment Trusts\", \"Software & Computer Services\", \"Alternative Energy\", \"Real Estate Investment & Services\", \"Nonequity Investment Instruments\", \"Nonequity Investment Instruments\", \"Health Care Equipment & Services\", \"Industrial Engineering\", \"Food & Drug Retailers\", \"Food & Drug Retailers\", \"Media\", \"Media\", \"Oil & Gas Producers\", \"Nonlife Insurance\", \"Financial Services\", \"Automobiles & Parts\", \"Industrial Engineering\", \"Banks\", \"Electronic & Electrical Equipment\", \"Software & Computer Services\", \"Beverages\", \"Mining\", \"Financial Services\", \"Personal Goods\", \"Software & Computer Services\", \"Fixed Line Telecommunications\", \"Mining\", \"Mining\", \"Fixed Line Telecommunications\", \"Chemicals\", \"Health Care Equipment & Services\", \"Gas, Water & Multiutilities\", \"Electronic & Electrical Equipment\", \"Construction & Materials\", \"Real Estate Investment & Services\", \"Travel & Leisure\", \"Banks\", \"Nonequity Investment Instruments\", \"Software & Computer Services\", \"Industrial Transportation\", \"Aerospace & Defense\", \"General Industrials\", \"Construction & Materials\", \"Mining\", \"Software & Computer Services\", \"Electronic & Electrical Equipment\", \"Oil & Gas Producers\", \"Nonequity Investment Instruments\", \"Industrial Metals & Mining\", \"Fixed Line Telecommunications\", \"Industrial Engineering\", \"Software & Computer Services\", \"Real Estate Investment & Services\", \"Pharmaceuticals & Biotechnology\", \"Electricity\", \"Banks\", \"Support Services\", \"Oil Equipment, Services & Distribution\", \"Tobacco\", \"Food Producers\", \"Support Services\", \"Personal Goods\", \"Electronic & Electrical Equipment\", \"Real Estate Investment Trusts\", \"Household Goods & Home Construction\", \"Food Producers\", \"Life Insurance\", \"Oil & Gas Producers\", \"Real Estate Investment & Services\", \"Industrial Transportation\", \"Tobacco\", \"Gas, Water & Multiutilities\", \"Leisure Goods\", \"Oil & Gas Producers\", \"Mobile Telecommunications\", \"Automobiles & Parts\", \"Aerospace & Defense\", \"Media\", \"Nonequity Investment Instruments\", \"Leisure Goods\", \"General Industrials\", \"Equity Investment Instruments\", \"Industrial Engineering\", \"Technology Hardware & Equipment\", \"Support Services\", \"Forestry & Paper\", \"Automobiles & Parts\", \"Technology Hardware & Equipment\", \"Real Estate Investment Trusts\", \"Support Services\", \"Industrial Transportation\", \"Life Insurance\", \"Real Estate Investment & Services\", \"Mobile Telecommunications\", \"Support Services\", \"Travel & Leisure\", \"Industrial Metals & Mining\", \"Aerospace & Defense\", \"Technology Hardware & Equipment\", \"Fixed Line Telecommunications\", \"Life Insurance\", \"Electricity\", \"Oil & Gas Producers\", \"Banks\", \"Forestry & Paper\", \"Equity Investment Instruments\", \"Household Goods & Home Construction\", \"Mobile Telecommunications\", \"Electronic & Electrical Equipment\", \"Leisure Goods\", \"Travel & Leisure\", \"Equity Investment Instruments\", \"Software & Computer Services\", \"Nonequity Investment Instruments\", \"Pharmaceuticals & Biotechnology\", \"Personal Goods\", \"Real Estate Investment & Services\", \"Household Goods & Home Construction\", \"Nonlife Insurance\", \"Media\", \"Oil & Gas Producers\"]"
   ]
  },
  {
   "cell_type": "code",
   "execution_count": 60,
   "metadata": {},
   "outputs": [
    {
     "ename": "AttributeError",
     "evalue": "'list' object has no attribute 'unique'",
     "output_type": "error",
     "traceback": [
      "\u001b[0;31m---------------------------------------------------------------------------\u001b[0m",
      "\u001b[0;31mAttributeError\u001b[0m                            Traceback (most recent call last)",
      "\u001b[0;32m<ipython-input-60-a15a77fb9603>\u001b[0m in \u001b[0;36m<module>\u001b[0;34m\u001b[0m\n\u001b[0;32m----> 1\u001b[0;31m \u001b[0mn\u001b[0m\u001b[0;34m.\u001b[0m\u001b[0munique\u001b[0m\u001b[0;34m(\u001b[0m\u001b[0;34m)\u001b[0m\u001b[0;34m\u001b[0m\u001b[0;34m\u001b[0m\u001b[0m\n\u001b[0m",
      "\u001b[0;31mAttributeError\u001b[0m: 'list' object has no attribute 'unique'"
     ]
    }
   ],
   "source": [
    "n.unique()\n"
   ]
  },
  {
   "cell_type": "code",
   "execution_count": 61,
   "metadata": {},
   "outputs": [
    {
     "name": "stdout",
     "output_type": "stream",
     "text": [
      "250\n",
      "41\n"
     ]
    }
   ],
   "source": [
    "print(len(n))\n",
    "print(len(set(n)))"
   ]
  },
  {
   "cell_type": "code",
   "execution_count": 69,
   "metadata": {},
   "outputs": [
    {
     "data": {
      "text/plain": [
       "25"
      ]
     },
     "execution_count": 69,
     "metadata": {},
     "output_type": "execute_result"
    }
   ],
   "source": [
    "len(subjects)"
   ]
  },
  {
   "cell_type": "code",
   "execution_count": 71,
   "metadata": {},
   "outputs": [
    {
     "data": {
      "text/plain": [
       "250"
      ]
     },
     "execution_count": 71,
     "metadata": {},
     "output_type": "execute_result"
    }
   ],
   "source": [
    "5* 25 *2"
   ]
  },
  {
   "cell_type": "code",
   "execution_count": null,
   "metadata": {},
   "outputs": [],
   "source": []
  }
 ],
 "metadata": {
  "kernelspec": {
   "display_name": "Python 3",
   "language": "python",
   "name": "python3"
  },
  "language_info": {
   "codemirror_mode": {
    "name": "ipython",
    "version": 3
   },
   "file_extension": ".py",
   "mimetype": "text/x-python",
   "name": "python",
   "nbconvert_exporter": "python",
   "pygments_lexer": "ipython3",
   "version": "3.7.1"
  }
 },
 "nbformat": 4,
 "nbformat_minor": 2
}
